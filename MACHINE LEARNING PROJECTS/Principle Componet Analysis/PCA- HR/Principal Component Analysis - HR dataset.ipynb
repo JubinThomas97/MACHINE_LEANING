{
 "cells": [
  {
   "cell_type": "markdown",
   "id": "20e20660",
   "metadata": {},
   "source": [
    "# Principal Component Analysis explained"
   ]
  },
  {
   "cell_type": "markdown",
   "id": "9779f370",
   "metadata": {},
   "source": [
    "In this notebook we eill study the steps involved in PCA with codes without implemeting scikit-learn.In the end we'll see the shortcut(alternative) way to apply PCA using Scikit-learn.The main aim of this tutorial is to explain what actually happens in background when you apply PCA algorithm."
   ]
  },
  {
   "cell_type": "markdown",
   "id": "a2ce4404",
   "metadata": {},
   "source": [
    "## 1) Import all the necessary libraries"
   ]
  },
  {
   "cell_type": "code",
   "execution_count": 1,
   "id": "4d28fc96",
   "metadata": {},
   "outputs": [],
   "source": [
    "import numpy as np # linear algebra\n",
    "import pandas as pd # data processing, CSV file I/O (e.g. pd.read_csv)\n",
    "import matplotlib as mpl\n",
    "import matplotlib.pyplot as plt\n",
    "import seaborn as sns\n",
    "%matplotlib inline"
   ]
  },
  {
   "cell_type": "markdown",
   "id": "e37f4fc6",
   "metadata": {},
   "source": [
    "## 2) Load the dataset"
   ]
  },
  {
   "cell_type": "code",
   "execution_count": 2,
   "id": "15bb0256",
   "metadata": {},
   "outputs": [],
   "source": [
    "df = pd.read_csv('HR_comma_sep.csv')"
   ]
  },
  {
   "cell_type": "code",
   "execution_count": 6,
   "id": "c94bf6df",
   "metadata": {},
   "outputs": [
    {
     "name": "stdout",
     "output_type": "stream",
     "text": [
      "Columns names:\n",
      "['satisfaction_level', 'last_evaluation', 'number_project', 'average_montly_hours', 'time_spend_company', 'Work_accident', 'left', 'promotion_last_5years', 'sales', 'salary']\n"
     ]
    }
   ],
   "source": [
    "columns_name=df.columns.tolist()\n",
    "print(\"Columns names:\")\n",
    "print(columns_names)"
   ]
  },
  {
   "cell_type": "code",
   "execution_count": 8,
   "id": "4c7e7c0d",
   "metadata": {},
   "outputs": [
    {
     "data": {
      "text/plain": [
       "(14999, 10)"
      ]
     },
     "execution_count": 8,
     "metadata": {},
     "output_type": "execute_result"
    }
   ],
   "source": [
    "df.shape"
   ]
  },
  {
   "cell_type": "code",
   "execution_count": 9,
   "id": "26d38eb1",
   "metadata": {},
   "outputs": [
    {
     "data": {
      "text/html": [
       "<div>\n",
       "<style scoped>\n",
       "    .dataframe tbody tr th:only-of-type {\n",
       "        vertical-align: middle;\n",
       "    }\n",
       "\n",
       "    .dataframe tbody tr th {\n",
       "        vertical-align: top;\n",
       "    }\n",
       "\n",
       "    .dataframe thead th {\n",
       "        text-align: right;\n",
       "    }\n",
       "</style>\n",
       "<table border=\"1\" class=\"dataframe\">\n",
       "  <thead>\n",
       "    <tr style=\"text-align: right;\">\n",
       "      <th></th>\n",
       "      <th>satisfaction_level</th>\n",
       "      <th>last_evaluation</th>\n",
       "      <th>number_project</th>\n",
       "      <th>average_montly_hours</th>\n",
       "      <th>time_spend_company</th>\n",
       "      <th>Work_accident</th>\n",
       "      <th>left</th>\n",
       "      <th>promotion_last_5years</th>\n",
       "      <th>sales</th>\n",
       "      <th>salary</th>\n",
       "    </tr>\n",
       "  </thead>\n",
       "  <tbody>\n",
       "    <tr>\n",
       "      <th>0</th>\n",
       "      <td>0.38</td>\n",
       "      <td>0.53</td>\n",
       "      <td>2</td>\n",
       "      <td>157</td>\n",
       "      <td>3</td>\n",
       "      <td>0</td>\n",
       "      <td>1</td>\n",
       "      <td>0</td>\n",
       "      <td>sales</td>\n",
       "      <td>low</td>\n",
       "    </tr>\n",
       "    <tr>\n",
       "      <th>1</th>\n",
       "      <td>0.80</td>\n",
       "      <td>0.86</td>\n",
       "      <td>5</td>\n",
       "      <td>262</td>\n",
       "      <td>6</td>\n",
       "      <td>0</td>\n",
       "      <td>1</td>\n",
       "      <td>0</td>\n",
       "      <td>sales</td>\n",
       "      <td>medium</td>\n",
       "    </tr>\n",
       "    <tr>\n",
       "      <th>2</th>\n",
       "      <td>0.11</td>\n",
       "      <td>0.88</td>\n",
       "      <td>7</td>\n",
       "      <td>272</td>\n",
       "      <td>4</td>\n",
       "      <td>0</td>\n",
       "      <td>1</td>\n",
       "      <td>0</td>\n",
       "      <td>sales</td>\n",
       "      <td>medium</td>\n",
       "    </tr>\n",
       "    <tr>\n",
       "      <th>3</th>\n",
       "      <td>0.72</td>\n",
       "      <td>0.87</td>\n",
       "      <td>5</td>\n",
       "      <td>223</td>\n",
       "      <td>5</td>\n",
       "      <td>0</td>\n",
       "      <td>1</td>\n",
       "      <td>0</td>\n",
       "      <td>sales</td>\n",
       "      <td>low</td>\n",
       "    </tr>\n",
       "    <tr>\n",
       "      <th>4</th>\n",
       "      <td>0.37</td>\n",
       "      <td>0.52</td>\n",
       "      <td>2</td>\n",
       "      <td>159</td>\n",
       "      <td>3</td>\n",
       "      <td>0</td>\n",
       "      <td>1</td>\n",
       "      <td>0</td>\n",
       "      <td>sales</td>\n",
       "      <td>low</td>\n",
       "    </tr>\n",
       "  </tbody>\n",
       "</table>\n",
       "</div>"
      ],
      "text/plain": [
       "   satisfaction_level  last_evaluation  number_project  average_montly_hours  \\\n",
       "0                0.38             0.53               2                   157   \n",
       "1                0.80             0.86               5                   262   \n",
       "2                0.11             0.88               7                   272   \n",
       "3                0.72             0.87               5                   223   \n",
       "4                0.37             0.52               2                   159   \n",
       "\n",
       "   time_spend_company  Work_accident  left  promotion_last_5years  sales  \\\n",
       "0                   3              0     1                      0  sales   \n",
       "1                   6              0     1                      0  sales   \n",
       "2                   4              0     1                      0  sales   \n",
       "3                   5              0     1                      0  sales   \n",
       "4                   3              0     1                      0  sales   \n",
       "\n",
       "   salary  \n",
       "0     low  \n",
       "1  medium  \n",
       "2  medium  \n",
       "3     low  \n",
       "4     low  "
      ]
     },
     "execution_count": 9,
     "metadata": {},
     "output_type": "execute_result"
    }
   ],
   "source": [
    "df.head()"
   ]
  },
  {
   "cell_type": "code",
   "execution_count": 10,
   "id": "6a7a7df8",
   "metadata": {},
   "outputs": [
    {
     "data": {
      "text/html": [
       "<div>\n",
       "<style scoped>\n",
       "    .dataframe tbody tr th:only-of-type {\n",
       "        vertical-align: middle;\n",
       "    }\n",
       "\n",
       "    .dataframe tbody tr th {\n",
       "        vertical-align: top;\n",
       "    }\n",
       "\n",
       "    .dataframe thead th {\n",
       "        text-align: right;\n",
       "    }\n",
       "</style>\n",
       "<table border=\"1\" class=\"dataframe\">\n",
       "  <thead>\n",
       "    <tr style=\"text-align: right;\">\n",
       "      <th></th>\n",
       "      <th>satisfaction_level</th>\n",
       "      <th>last_evaluation</th>\n",
       "      <th>number_project</th>\n",
       "      <th>average_montly_hours</th>\n",
       "      <th>time_spend_company</th>\n",
       "      <th>Work_accident</th>\n",
       "      <th>left</th>\n",
       "      <th>promotion_last_5years</th>\n",
       "    </tr>\n",
       "  </thead>\n",
       "  <tbody>\n",
       "    <tr>\n",
       "      <th>satisfaction_level</th>\n",
       "      <td>1.000000</td>\n",
       "      <td>0.105021</td>\n",
       "      <td>-0.142970</td>\n",
       "      <td>-0.020048</td>\n",
       "      <td>-0.100866</td>\n",
       "      <td>0.058697</td>\n",
       "      <td>-0.388375</td>\n",
       "      <td>0.025605</td>\n",
       "    </tr>\n",
       "    <tr>\n",
       "      <th>last_evaluation</th>\n",
       "      <td>0.105021</td>\n",
       "      <td>1.000000</td>\n",
       "      <td>0.349333</td>\n",
       "      <td>0.339742</td>\n",
       "      <td>0.131591</td>\n",
       "      <td>-0.007104</td>\n",
       "      <td>0.006567</td>\n",
       "      <td>-0.008684</td>\n",
       "    </tr>\n",
       "    <tr>\n",
       "      <th>number_project</th>\n",
       "      <td>-0.142970</td>\n",
       "      <td>0.349333</td>\n",
       "      <td>1.000000</td>\n",
       "      <td>0.417211</td>\n",
       "      <td>0.196786</td>\n",
       "      <td>-0.004741</td>\n",
       "      <td>0.023787</td>\n",
       "      <td>-0.006064</td>\n",
       "    </tr>\n",
       "    <tr>\n",
       "      <th>average_montly_hours</th>\n",
       "      <td>-0.020048</td>\n",
       "      <td>0.339742</td>\n",
       "      <td>0.417211</td>\n",
       "      <td>1.000000</td>\n",
       "      <td>0.127755</td>\n",
       "      <td>-0.010143</td>\n",
       "      <td>0.071287</td>\n",
       "      <td>-0.003544</td>\n",
       "    </tr>\n",
       "    <tr>\n",
       "      <th>time_spend_company</th>\n",
       "      <td>-0.100866</td>\n",
       "      <td>0.131591</td>\n",
       "      <td>0.196786</td>\n",
       "      <td>0.127755</td>\n",
       "      <td>1.000000</td>\n",
       "      <td>0.002120</td>\n",
       "      <td>0.144822</td>\n",
       "      <td>0.067433</td>\n",
       "    </tr>\n",
       "    <tr>\n",
       "      <th>Work_accident</th>\n",
       "      <td>0.058697</td>\n",
       "      <td>-0.007104</td>\n",
       "      <td>-0.004741</td>\n",
       "      <td>-0.010143</td>\n",
       "      <td>0.002120</td>\n",
       "      <td>1.000000</td>\n",
       "      <td>-0.154622</td>\n",
       "      <td>0.039245</td>\n",
       "    </tr>\n",
       "    <tr>\n",
       "      <th>left</th>\n",
       "      <td>-0.388375</td>\n",
       "      <td>0.006567</td>\n",
       "      <td>0.023787</td>\n",
       "      <td>0.071287</td>\n",
       "      <td>0.144822</td>\n",
       "      <td>-0.154622</td>\n",
       "      <td>1.000000</td>\n",
       "      <td>-0.061788</td>\n",
       "    </tr>\n",
       "    <tr>\n",
       "      <th>promotion_last_5years</th>\n",
       "      <td>0.025605</td>\n",
       "      <td>-0.008684</td>\n",
       "      <td>-0.006064</td>\n",
       "      <td>-0.003544</td>\n",
       "      <td>0.067433</td>\n",
       "      <td>0.039245</td>\n",
       "      <td>-0.061788</td>\n",
       "      <td>1.000000</td>\n",
       "    </tr>\n",
       "  </tbody>\n",
       "</table>\n",
       "</div>"
      ],
      "text/plain": [
       "                       satisfaction_level  last_evaluation  number_project  \\\n",
       "satisfaction_level               1.000000         0.105021       -0.142970   \n",
       "last_evaluation                  0.105021         1.000000        0.349333   \n",
       "number_project                  -0.142970         0.349333        1.000000   \n",
       "average_montly_hours            -0.020048         0.339742        0.417211   \n",
       "time_spend_company              -0.100866         0.131591        0.196786   \n",
       "Work_accident                    0.058697        -0.007104       -0.004741   \n",
       "left                            -0.388375         0.006567        0.023787   \n",
       "promotion_last_5years            0.025605        -0.008684       -0.006064   \n",
       "\n",
       "                       average_montly_hours  time_spend_company  \\\n",
       "satisfaction_level                -0.020048           -0.100866   \n",
       "last_evaluation                    0.339742            0.131591   \n",
       "number_project                     0.417211            0.196786   \n",
       "average_montly_hours               1.000000            0.127755   \n",
       "time_spend_company                 0.127755            1.000000   \n",
       "Work_accident                     -0.010143            0.002120   \n",
       "left                               0.071287            0.144822   \n",
       "promotion_last_5years             -0.003544            0.067433   \n",
       "\n",
       "                       Work_accident      left  promotion_last_5years  \n",
       "satisfaction_level          0.058697 -0.388375               0.025605  \n",
       "last_evaluation            -0.007104  0.006567              -0.008684  \n",
       "number_project             -0.004741  0.023787              -0.006064  \n",
       "average_montly_hours       -0.010143  0.071287              -0.003544  \n",
       "time_spend_company          0.002120  0.144822               0.067433  \n",
       "Work_accident               1.000000 -0.154622               0.039245  \n",
       "left                       -0.154622  1.000000              -0.061788  \n",
       "promotion_last_5years       0.039245 -0.061788               1.000000  "
      ]
     },
     "execution_count": 10,
     "metadata": {},
     "output_type": "execute_result"
    }
   ],
   "source": [
    "df.corr()"
   ]
  },
  {
   "cell_type": "markdown",
   "id": "eeb31ca2",
   "metadata": {},
   "source": [
    " df.corr() compute pairwise correlation of columns.Correlation shows how the two variables are related to each other.Positive values shows as one variable increases other variable increases as well. Negative values shows as one variable increases other variable decreases.Bigger the values,more strongly two varibles are correlated and viceversa."
   ]
  },
  {
   "cell_type": "code",
   "execution_count": 14,
   "id": "08bb273e",
   "metadata": {},
   "outputs": [
    {
     "data": {
      "text/plain": [
       "Text(0.5, 1.0, 'Correlation between different fearures')"
      ]
     },
     "execution_count": 14,
     "metadata": {},
     "output_type": "execute_result"
    },
    {
     "data": {
      "image/png": "[encoded data removed]",
      "text/plain": [
       "<Figure size 1000x1000 with 2 Axes>"
      ]
     },
     "metadata": {},
     "output_type": "display_data"
    }
   ],
   "source": [
    "# Visualising correlation using Seaborn library\n",
    "\n",
    "correlation = df.corr()\n",
    "plt.figure(figsize=(10,10))\n",
    "sns.heatmap(correlation, square=True,annot=True,cmap='cubehelix')\n",
    "plt.title('Correlation between different fearures')"
   ]
  },
  {
   "cell_type": "markdown",
   "id": "d067e331",
   "metadata": {},
   "source": [
    "## Doing some visualisation before moving onto PCA"
   ]
  },
  {
   "cell_type": "code",
   "execution_count": 16,
   "id": "8891ae3d",
   "metadata": {},
   "outputs": [
    {
     "data": {
      "text/plain": [
       "array(['sales', 'accounting', 'hr', 'technical', 'support', 'management',\n",
       "       'IT', 'product_mng', 'marketing', 'RandD'], dtype=object)"
      ]
     },
     "execution_count": 16,
     "metadata": {},
     "output_type": "execute_result"
    }
   ],
   "source": [
    "df['sales'].unique()"
   ]
  },
  {
   "cell_type": "code",
   "execution_count": 17,
   "id": "a4a269ec",
   "metadata": {},
   "outputs": [
    {
     "data": {
      "text/html": [
       "<div>\n",
       "<style scoped>\n",
       "    .dataframe tbody tr th:only-of-type {\n",
       "        vertical-align: middle;\n",
       "    }\n",
       "\n",
       "    .dataframe tbody tr th {\n",
       "        vertical-align: top;\n",
       "    }\n",
       "\n",
       "    .dataframe thead th {\n",
       "        text-align: right;\n",
       "    }\n",
       "</style>\n",
       "<table border=\"1\" class=\"dataframe\">\n",
       "  <thead>\n",
       "    <tr style=\"text-align: right;\">\n",
       "      <th></th>\n",
       "      <th>satisfaction_level</th>\n",
       "      <th>last_evaluation</th>\n",
       "      <th>number_project</th>\n",
       "      <th>average_montly_hours</th>\n",
       "      <th>time_spend_company</th>\n",
       "      <th>Work_accident</th>\n",
       "      <th>left</th>\n",
       "      <th>promotion_last_5years</th>\n",
       "    </tr>\n",
       "    <tr>\n",
       "      <th>sales</th>\n",
       "      <th></th>\n",
       "      <th></th>\n",
       "      <th></th>\n",
       "      <th></th>\n",
       "      <th></th>\n",
       "      <th></th>\n",
       "      <th></th>\n",
       "      <th></th>\n",
       "    </tr>\n",
       "  </thead>\n",
       "  <tbody>\n",
       "    <tr>\n",
       "      <th>IT</th>\n",
       "      <td>758.46</td>\n",
       "      <td>879.55</td>\n",
       "      <td>4683</td>\n",
       "      <td>248119</td>\n",
       "      <td>4256</td>\n",
       "      <td>164</td>\n",
       "      <td>273</td>\n",
       "      <td>3</td>\n",
       "    </tr>\n",
       "    <tr>\n",
       "      <th>RandD</th>\n",
       "      <td>487.80</td>\n",
       "      <td>560.44</td>\n",
       "      <td>3033</td>\n",
       "      <td>158030</td>\n",
       "      <td>2650</td>\n",
       "      <td>134</td>\n",
       "      <td>121</td>\n",
       "      <td>27</td>\n",
       "    </tr>\n",
       "    <tr>\n",
       "      <th>accounting</th>\n",
       "      <td>446.51</td>\n",
       "      <td>550.49</td>\n",
       "      <td>2934</td>\n",
       "      <td>154292</td>\n",
       "      <td>2702</td>\n",
       "      <td>96</td>\n",
       "      <td>204</td>\n",
       "      <td>14</td>\n",
       "    </tr>\n",
       "    <tr>\n",
       "      <th>hr</th>\n",
       "      <td>442.52</td>\n",
       "      <td>523.84</td>\n",
       "      <td>2701</td>\n",
       "      <td>146828</td>\n",
       "      <td>2480</td>\n",
       "      <td>89</td>\n",
       "      <td>215</td>\n",
       "      <td>15</td>\n",
       "    </tr>\n",
       "    <tr>\n",
       "      <th>management</th>\n",
       "      <td>391.45</td>\n",
       "      <td>456.12</td>\n",
       "      <td>2432</td>\n",
       "      <td>126787</td>\n",
       "      <td>2711</td>\n",
       "      <td>103</td>\n",
       "      <td>91</td>\n",
       "      <td>69</td>\n",
       "    </tr>\n",
       "    <tr>\n",
       "      <th>marketing</th>\n",
       "      <td>530.76</td>\n",
       "      <td>614.23</td>\n",
       "      <td>3164</td>\n",
       "      <td>171073</td>\n",
       "      <td>3063</td>\n",
       "      <td>138</td>\n",
       "      <td>203</td>\n",
       "      <td>43</td>\n",
       "    </tr>\n",
       "    <tr>\n",
       "      <th>product_mng</th>\n",
       "      <td>558.91</td>\n",
       "      <td>644.71</td>\n",
       "      <td>3434</td>\n",
       "      <td>180369</td>\n",
       "      <td>3135</td>\n",
       "      <td>132</td>\n",
       "      <td>198</td>\n",
       "      <td>0</td>\n",
       "    </tr>\n",
       "    <tr>\n",
       "      <th>sales</th>\n",
       "      <td>2543.81</td>\n",
       "      <td>2938.23</td>\n",
       "      <td>15634</td>\n",
       "      <td>831773</td>\n",
       "      <td>14631</td>\n",
       "      <td>587</td>\n",
       "      <td>1014</td>\n",
       "      <td>100</td>\n",
       "    </tr>\n",
       "    <tr>\n",
       "      <th>support</th>\n",
       "      <td>1378.19</td>\n",
       "      <td>1611.81</td>\n",
       "      <td>8479</td>\n",
       "      <td>447490</td>\n",
       "      <td>7563</td>\n",
       "      <td>345</td>\n",
       "      <td>555</td>\n",
       "      <td>20</td>\n",
       "    </tr>\n",
       "    <tr>\n",
       "      <th>technical</th>\n",
       "      <td>1653.48</td>\n",
       "      <td>1961.39</td>\n",
       "      <td>10548</td>\n",
       "      <td>550793</td>\n",
       "      <td>9279</td>\n",
       "      <td>381</td>\n",
       "      <td>697</td>\n",
       "      <td>28</td>\n",
       "    </tr>\n",
       "  </tbody>\n",
       "</table>\n",
       "</div>"
      ],
      "text/plain": [
       "             satisfaction_level  last_evaluation  number_project  \\\n",
       "sales                                                              \n",
       "IT                       758.46           879.55            4683   \n",
       "RandD                    487.80           560.44            3033   \n",
       "accounting               446.51           550.49            2934   \n",
       "hr                       442.52           523.84            2701   \n",
       "management               391.45           456.12            2432   \n",
       "marketing                530.76           614.23            3164   \n",
       "product_mng              558.91           644.71            3434   \n",
       "sales                   2543.81          2938.23           15634   \n",
       "support                 1378.19          1611.81            8479   \n",
       "technical               1653.48          1961.39           10548   \n",
       "\n",
       "             average_montly_hours  time_spend_company  Work_accident  left  \\\n",
       "sales                                                                        \n",
       "IT                         248119                4256            164   273   \n",
       "RandD                      158030                2650            134   121   \n",
       "accounting                 154292                2702             96   204   \n",
       "hr                         146828                2480             89   215   \n",
       "management                 126787                2711            103    91   \n",
       "marketing                  171073                3063            138   203   \n",
       "product_mng                180369                3135            132   198   \n",
       "sales                      831773               14631            587  1014   \n",
       "support                    447490                7563            345   555   \n",
       "technical                  550793                9279            381   697   \n",
       "\n",
       "             promotion_last_5years  \n",
       "sales                               \n",
       "IT                               3  \n",
       "RandD                           27  \n",
       "accounting                      14  \n",
       "hr                              15  \n",
       "management                      69  \n",
       "marketing                       43  \n",
       "product_mng                      0  \n",
       "sales                          100  \n",
       "support                         20  \n",
       "technical                       28  "
      ]
     },
     "execution_count": 17,
     "metadata": {},
     "output_type": "execute_result"
    }
   ],
   "source": [
    "sales=df.groupby('sales').sum()\n",
    "sales"
   ]
  },
  {
   "cell_type": "code",
   "execution_count": 18,
   "id": "073772b9",
   "metadata": {},
   "outputs": [
    {
     "data": {
      "text/html": [
       "<div>\n",
       "<style scoped>\n",
       "    .dataframe tbody tr th:only-of-type {\n",
       "        vertical-align: middle;\n",
       "    }\n",
       "\n",
       "    .dataframe tbody tr th {\n",
       "        vertical-align: top;\n",
       "    }\n",
       "\n",
       "    .dataframe thead th {\n",
       "        text-align: right;\n",
       "    }\n",
       "</style>\n",
       "<table border=\"1\" class=\"dataframe\">\n",
       "  <thead>\n",
       "    <tr style=\"text-align: right;\">\n",
       "      <th></th>\n",
       "      <th>satisfaction_level</th>\n",
       "      <th>last_evaluation</th>\n",
       "      <th>number_project</th>\n",
       "      <th>average_montly_hours</th>\n",
       "      <th>time_spend_company</th>\n",
       "      <th>Work_accident</th>\n",
       "      <th>left</th>\n",
       "      <th>promotion_last_5years</th>\n",
       "    </tr>\n",
       "    <tr>\n",
       "      <th>sales</th>\n",
       "      <th></th>\n",
       "      <th></th>\n",
       "      <th></th>\n",
       "      <th></th>\n",
       "      <th></th>\n",
       "      <th></th>\n",
       "      <th></th>\n",
       "      <th></th>\n",
       "    </tr>\n",
       "  </thead>\n",
       "  <tbody>\n",
       "    <tr>\n",
       "      <th>IT</th>\n",
       "      <td>0.618142</td>\n",
       "      <td>0.716830</td>\n",
       "      <td>3.816626</td>\n",
       "      <td>202.215974</td>\n",
       "      <td>3.468623</td>\n",
       "      <td>0.133659</td>\n",
       "      <td>0.222494</td>\n",
       "      <td>0.002445</td>\n",
       "    </tr>\n",
       "    <tr>\n",
       "      <th>RandD</th>\n",
       "      <td>0.619822</td>\n",
       "      <td>0.712122</td>\n",
       "      <td>3.853875</td>\n",
       "      <td>200.800508</td>\n",
       "      <td>3.367217</td>\n",
       "      <td>0.170267</td>\n",
       "      <td>0.153748</td>\n",
       "      <td>0.034307</td>\n",
       "    </tr>\n",
       "    <tr>\n",
       "      <th>accounting</th>\n",
       "      <td>0.582151</td>\n",
       "      <td>0.717718</td>\n",
       "      <td>3.825293</td>\n",
       "      <td>201.162973</td>\n",
       "      <td>3.522816</td>\n",
       "      <td>0.125163</td>\n",
       "      <td>0.265971</td>\n",
       "      <td>0.018253</td>\n",
       "    </tr>\n",
       "    <tr>\n",
       "      <th>hr</th>\n",
       "      <td>0.598809</td>\n",
       "      <td>0.708850</td>\n",
       "      <td>3.654939</td>\n",
       "      <td>198.684709</td>\n",
       "      <td>3.355886</td>\n",
       "      <td>0.120433</td>\n",
       "      <td>0.290934</td>\n",
       "      <td>0.020298</td>\n",
       "    </tr>\n",
       "    <tr>\n",
       "      <th>management</th>\n",
       "      <td>0.621349</td>\n",
       "      <td>0.724000</td>\n",
       "      <td>3.860317</td>\n",
       "      <td>201.249206</td>\n",
       "      <td>4.303175</td>\n",
       "      <td>0.163492</td>\n",
       "      <td>0.144444</td>\n",
       "      <td>0.109524</td>\n",
       "    </tr>\n",
       "    <tr>\n",
       "      <th>marketing</th>\n",
       "      <td>0.618601</td>\n",
       "      <td>0.715886</td>\n",
       "      <td>3.687646</td>\n",
       "      <td>199.385781</td>\n",
       "      <td>3.569930</td>\n",
       "      <td>0.160839</td>\n",
       "      <td>0.236597</td>\n",
       "      <td>0.050117</td>\n",
       "    </tr>\n",
       "    <tr>\n",
       "      <th>product_mng</th>\n",
       "      <td>0.619634</td>\n",
       "      <td>0.714756</td>\n",
       "      <td>3.807095</td>\n",
       "      <td>199.965632</td>\n",
       "      <td>3.475610</td>\n",
       "      <td>0.146341</td>\n",
       "      <td>0.219512</td>\n",
       "      <td>0.000000</td>\n",
       "    </tr>\n",
       "    <tr>\n",
       "      <th>sales</th>\n",
       "      <td>0.614447</td>\n",
       "      <td>0.709717</td>\n",
       "      <td>3.776329</td>\n",
       "      <td>200.911353</td>\n",
       "      <td>3.534058</td>\n",
       "      <td>0.141787</td>\n",
       "      <td>0.244928</td>\n",
       "      <td>0.024155</td>\n",
       "    </tr>\n",
       "    <tr>\n",
       "      <th>support</th>\n",
       "      <td>0.618300</td>\n",
       "      <td>0.723109</td>\n",
       "      <td>3.803948</td>\n",
       "      <td>200.758188</td>\n",
       "      <td>3.393001</td>\n",
       "      <td>0.154778</td>\n",
       "      <td>0.248991</td>\n",
       "      <td>0.008973</td>\n",
       "    </tr>\n",
       "    <tr>\n",
       "      <th>technical</th>\n",
       "      <td>0.607897</td>\n",
       "      <td>0.721099</td>\n",
       "      <td>3.877941</td>\n",
       "      <td>202.497426</td>\n",
       "      <td>3.411397</td>\n",
       "      <td>0.140074</td>\n",
       "      <td>0.256250</td>\n",
       "      <td>0.010294</td>\n",
       "    </tr>\n",
       "  </tbody>\n",
       "</table>\n",
       "</div>"
      ],
      "text/plain": [
       "             satisfaction_level  last_evaluation  number_project  \\\n",
       "sales                                                              \n",
       "IT                     0.618142         0.716830        3.816626   \n",
       "RandD                  0.619822         0.712122        3.853875   \n",
       "accounting             0.582151         0.717718        3.825293   \n",
       "hr                     0.598809         0.708850        3.654939   \n",
       "management             0.621349         0.724000        3.860317   \n",
       "marketing              0.618601         0.715886        3.687646   \n",
       "product_mng            0.619634         0.714756        3.807095   \n",
       "sales                  0.614447         0.709717        3.776329   \n",
       "support                0.618300         0.723109        3.803948   \n",
       "technical              0.607897         0.721099        3.877941   \n",
       "\n",
       "             average_montly_hours  time_spend_company  Work_accident  \\\n",
       "sales                                                                  \n",
       "IT                     202.215974            3.468623       0.133659   \n",
       "RandD                  200.800508            3.367217       0.170267   \n",
       "accounting             201.162973            3.522816       0.125163   \n",
       "hr                     198.684709            3.355886       0.120433   \n",
       "management             201.249206            4.303175       0.163492   \n",
       "marketing              199.385781            3.569930       0.160839   \n",
       "product_mng            199.965632            3.475610       0.146341   \n",
       "sales                  200.911353            3.534058       0.141787   \n",
       "support                200.758188            3.393001       0.154778   \n",
       "technical              202.497426            3.411397       0.140074   \n",
       "\n",
       "                 left  promotion_last_5years  \n",
       "sales                                         \n",
       "IT           0.222494               0.002445  \n",
       "RandD        0.153748               0.034307  \n",
       "accounting   0.265971               0.018253  \n",
       "hr           0.290934               0.020298  \n",
       "management   0.144444               0.109524  \n",
       "marketing    0.236597               0.050117  \n",
       "product_mng  0.219512               0.000000  \n",
       "sales        0.244928               0.024155  \n",
       "support      0.248991               0.008973  \n",
       "technical    0.256250               0.010294  "
      ]
     },
     "execution_count": 18,
     "metadata": {},
     "output_type": "execute_result"
    }
   ],
   "source": [
    "groupby_sales=df.groupby('sales').mean()\n",
    "groupby_sales"
   ]
  },
  {
   "cell_type": "code",
   "execution_count": 19,
   "id": "5d45bc71",
   "metadata": {},
   "outputs": [
    {
     "data": {
      "text/plain": [
       "0.6078970588235294"
      ]
     },
     "execution_count": 19,
     "metadata": {},
     "output_type": "execute_result"
    }
   ],
   "source": [
    "IT=groupby_sales['satisfaction_level'].IT\n",
    "RandD=groupby_sales['satisfaction_level'].RandD\n",
    "accounting=groupby_sales['satisfaction_level'].accounting\n",
    "hr=groupby_sales['satisfaction_level'].hr\n",
    "management=groupby_sales['satisfaction_level'].management\n",
    "marketing=groupby_sales['satisfaction_level'].marketing\n",
    "product_mng=groupby_sales['satisfaction_level'].product_mng\n",
    "sales=groupby_sales['satisfaction_level'].sales\n",
    "support=groupby_sales['satisfaction_level'].support\n",
    "technical=groupby_sales['satisfaction_level'].technical\n",
    "technical"
   ]
  },
  {
   "cell_type": "code",
   "execution_count": 21,
   "id": "236f313e",
   "metadata": {},
   "outputs": [
    {
     "data": {
      "text/plain": [
       "Text(0.5, 1.0, 'Mean Satisfaction Level of each department')"
      ]
     },
     "execution_count": 21,
     "metadata": {},
     "output_type": "execute_result"
    },
    {
     "data": {
      "image/png": "[encoded data removed]",
      "text/plain": [
       "<Figure size 640x480 with 1 Axes>"
      ]
     },
     "metadata": {},
     "output_type": "display_data"
    }
   ],
   "source": [
    "department_name=('sales', 'accounting', 'hr', 'technical', 'support', 'management',\n",
    "       'IT', 'product_mng', 'marketing', 'RandD')\n",
    "department=(sales, accounting, hr, technical, support, management,\n",
    "       IT, product_mng, marketing, RandD)\n",
    "y_pos = np.arange(len(department))\n",
    "x=np.arange(0,1,0.1)\n",
    "\n",
    "plt.barh(y_pos, department, align='center', alpha=0.8)\n",
    "plt.yticks(y_pos,department_name )\n",
    "plt.xlabel('Satisfaction level')\n",
    "plt.title('Mean Satisfaction Level of each department')"
   ]
  },
  {
   "cell_type": "markdown",
   "id": "eed1510a",
   "metadata": {},
   "source": [
    "# Principal Component Analysis"
   ]
  },
  {
   "cell_type": "code",
   "execution_count": 22,
   "id": "86c548e7",
   "metadata": {},
   "outputs": [
    {
     "data": {
      "text/html": [
       "<div>\n",
       "<style scoped>\n",
       "    .dataframe tbody tr th:only-of-type {\n",
       "        vertical-align: middle;\n",
       "    }\n",
       "\n",
       "    .dataframe tbody tr th {\n",
       "        vertical-align: top;\n",
       "    }\n",
       "\n",
       "    .dataframe thead th {\n",
       "        text-align: right;\n",
       "    }\n",
       "</style>\n",
       "<table border=\"1\" class=\"dataframe\">\n",
       "  <thead>\n",
       "    <tr style=\"text-align: right;\">\n",
       "      <th></th>\n",
       "      <th>satisfaction_level</th>\n",
       "      <th>last_evaluation</th>\n",
       "      <th>number_project</th>\n",
       "      <th>average_montly_hours</th>\n",
       "      <th>time_spend_company</th>\n",
       "      <th>Work_accident</th>\n",
       "      <th>left</th>\n",
       "      <th>promotion_last_5years</th>\n",
       "      <th>sales</th>\n",
       "      <th>salary</th>\n",
       "    </tr>\n",
       "  </thead>\n",
       "  <tbody>\n",
       "    <tr>\n",
       "      <th>0</th>\n",
       "      <td>0.38</td>\n",
       "      <td>0.53</td>\n",
       "      <td>2</td>\n",
       "      <td>157</td>\n",
       "      <td>3</td>\n",
       "      <td>0</td>\n",
       "      <td>1</td>\n",
       "      <td>0</td>\n",
       "      <td>sales</td>\n",
       "      <td>low</td>\n",
       "    </tr>\n",
       "    <tr>\n",
       "      <th>1</th>\n",
       "      <td>0.80</td>\n",
       "      <td>0.86</td>\n",
       "      <td>5</td>\n",
       "      <td>262</td>\n",
       "      <td>6</td>\n",
       "      <td>0</td>\n",
       "      <td>1</td>\n",
       "      <td>0</td>\n",
       "      <td>sales</td>\n",
       "      <td>medium</td>\n",
       "    </tr>\n",
       "    <tr>\n",
       "      <th>2</th>\n",
       "      <td>0.11</td>\n",
       "      <td>0.88</td>\n",
       "      <td>7</td>\n",
       "      <td>272</td>\n",
       "      <td>4</td>\n",
       "      <td>0</td>\n",
       "      <td>1</td>\n",
       "      <td>0</td>\n",
       "      <td>sales</td>\n",
       "      <td>medium</td>\n",
       "    </tr>\n",
       "    <tr>\n",
       "      <th>3</th>\n",
       "      <td>0.72</td>\n",
       "      <td>0.87</td>\n",
       "      <td>5</td>\n",
       "      <td>223</td>\n",
       "      <td>5</td>\n",
       "      <td>0</td>\n",
       "      <td>1</td>\n",
       "      <td>0</td>\n",
       "      <td>sales</td>\n",
       "      <td>low</td>\n",
       "    </tr>\n",
       "    <tr>\n",
       "      <th>4</th>\n",
       "      <td>0.37</td>\n",
       "      <td>0.52</td>\n",
       "      <td>2</td>\n",
       "      <td>159</td>\n",
       "      <td>3</td>\n",
       "      <td>0</td>\n",
       "      <td>1</td>\n",
       "      <td>0</td>\n",
       "      <td>sales</td>\n",
       "      <td>low</td>\n",
       "    </tr>\n",
       "  </tbody>\n",
       "</table>\n",
       "</div>"
      ],
      "text/plain": [
       "   satisfaction_level  last_evaluation  number_project  average_montly_hours  \\\n",
       "0                0.38             0.53               2                   157   \n",
       "1                0.80             0.86               5                   262   \n",
       "2                0.11             0.88               7                   272   \n",
       "3                0.72             0.87               5                   223   \n",
       "4                0.37             0.52               2                   159   \n",
       "\n",
       "   time_spend_company  Work_accident  left  promotion_last_5years  sales  \\\n",
       "0                   3              0     1                      0  sales   \n",
       "1                   6              0     1                      0  sales   \n",
       "2                   4              0     1                      0  sales   \n",
       "3                   5              0     1                      0  sales   \n",
       "4                   3              0     1                      0  sales   \n",
       "\n",
       "   salary  \n",
       "0     low  \n",
       "1  medium  \n",
       "2  medium  \n",
       "3     low  \n",
       "4     low  "
      ]
     },
     "execution_count": 22,
     "metadata": {},
     "output_type": "execute_result"
    }
   ],
   "source": [
    "df.head()"
   ]
  },
  {
   "cell_type": "code",
   "execution_count": 23,
   "id": "15b30bd3",
   "metadata": {},
   "outputs": [
    {
     "data": {
      "text/html": [
       "<div>\n",
       "<style scoped>\n",
       "    .dataframe tbody tr th:only-of-type {\n",
       "        vertical-align: middle;\n",
       "    }\n",
       "\n",
       "    .dataframe tbody tr th {\n",
       "        vertical-align: top;\n",
       "    }\n",
       "\n",
       "    .dataframe thead th {\n",
       "        text-align: right;\n",
       "    }\n",
       "</style>\n",
       "<table border=\"1\" class=\"dataframe\">\n",
       "  <thead>\n",
       "    <tr style=\"text-align: right;\">\n",
       "      <th></th>\n",
       "      <th>satisfaction_level</th>\n",
       "      <th>last_evaluation</th>\n",
       "      <th>number_project</th>\n",
       "      <th>average_montly_hours</th>\n",
       "      <th>time_spend_company</th>\n",
       "      <th>Work_accident</th>\n",
       "      <th>left</th>\n",
       "      <th>promotion_last_5years</th>\n",
       "    </tr>\n",
       "  </thead>\n",
       "  <tbody>\n",
       "    <tr>\n",
       "      <th>0</th>\n",
       "      <td>0.38</td>\n",
       "      <td>0.53</td>\n",
       "      <td>2</td>\n",
       "      <td>157</td>\n",
       "      <td>3</td>\n",
       "      <td>0</td>\n",
       "      <td>1</td>\n",
       "      <td>0</td>\n",
       "    </tr>\n",
       "    <tr>\n",
       "      <th>1</th>\n",
       "      <td>0.80</td>\n",
       "      <td>0.86</td>\n",
       "      <td>5</td>\n",
       "      <td>262</td>\n",
       "      <td>6</td>\n",
       "      <td>0</td>\n",
       "      <td>1</td>\n",
       "      <td>0</td>\n",
       "    </tr>\n",
       "    <tr>\n",
       "      <th>2</th>\n",
       "      <td>0.11</td>\n",
       "      <td>0.88</td>\n",
       "      <td>7</td>\n",
       "      <td>272</td>\n",
       "      <td>4</td>\n",
       "      <td>0</td>\n",
       "      <td>1</td>\n",
       "      <td>0</td>\n",
       "    </tr>\n",
       "    <tr>\n",
       "      <th>3</th>\n",
       "      <td>0.72</td>\n",
       "      <td>0.87</td>\n",
       "      <td>5</td>\n",
       "      <td>223</td>\n",
       "      <td>5</td>\n",
       "      <td>0</td>\n",
       "      <td>1</td>\n",
       "      <td>0</td>\n",
       "    </tr>\n",
       "    <tr>\n",
       "      <th>4</th>\n",
       "      <td>0.37</td>\n",
       "      <td>0.52</td>\n",
       "      <td>2</td>\n",
       "      <td>159</td>\n",
       "      <td>3</td>\n",
       "      <td>0</td>\n",
       "      <td>1</td>\n",
       "      <td>0</td>\n",
       "    </tr>\n",
       "  </tbody>\n",
       "</table>\n",
       "</div>"
      ],
      "text/plain": [
       "   satisfaction_level  last_evaluation  number_project  average_montly_hours  \\\n",
       "0                0.38             0.53               2                   157   \n",
       "1                0.80             0.86               5                   262   \n",
       "2                0.11             0.88               7                   272   \n",
       "3                0.72             0.87               5                   223   \n",
       "4                0.37             0.52               2                   159   \n",
       "\n",
       "   time_spend_company  Work_accident  left  promotion_last_5years  \n",
       "0                   3              0     1                      0  \n",
       "1                   6              0     1                      0  \n",
       "2                   4              0     1                      0  \n",
       "3                   5              0     1                      0  \n",
       "4                   3              0     1                      0  "
      ]
     },
     "execution_count": 23,
     "metadata": {},
     "output_type": "execute_result"
    }
   ],
   "source": [
    "df_drop=df.drop(labels=['sales','salary'],axis=1)\n",
    "df_drop.head()"
   ]
  },
  {
   "cell_type": "code",
   "execution_count": 24,
   "id": "e4db0812",
   "metadata": {},
   "outputs": [
    {
     "data": {
      "text/plain": [
       "['satisfaction_level',\n",
       " 'last_evaluation',\n",
       " 'number_project',\n",
       " 'average_montly_hours',\n",
       " 'time_spend_company',\n",
       " 'Work_accident',\n",
       " 'left',\n",
       " 'promotion_last_5years']"
      ]
     },
     "execution_count": 24,
     "metadata": {},
     "output_type": "execute_result"
    }
   ],
   "source": [
    "cols = df_drop.columns.tolist()\n",
    "cols"
   ]
  },
  {
   "cell_type": "markdown",
   "id": "a1721e9f",
   "metadata": {},
   "source": [
    "Now we need to bring \"left\" column to the front as it is the label and not the feature.Here we are converting columns of the dataframe to list so it would be easier for us to reshuffle the columns.We are going to use cols.insert method"
   ]
  },
  {
   "cell_type": "code",
   "execution_count": 29,
   "id": "521944b1",
   "metadata": {},
   "outputs": [
    {
     "data": {
      "text/plain": [
       "['left',\n",
       " 'satisfaction_level',\n",
       " 'last_evaluation',\n",
       " 'number_project',\n",
       " 'average_montly_hours',\n",
       " 'time_spend_company',\n",
       " 'Work_accident',\n",
       " 'promotion_last_5years']"
      ]
     },
     "execution_count": 29,
     "metadata": {},
     "output_type": "execute_result"
    }
   ],
   "source": [
    "cols.insert(0,cols.pop(cols.index('left')))\n",
    "cols"
   ]
  },
  {
   "cell_type": "code",
   "execution_count": 26,
   "id": "91fe5bec",
   "metadata": {},
   "outputs": [],
   "source": [
    "df_drop = df_drop.reindex(columns= cols)"
   ]
  },
  {
   "cell_type": "code",
   "execution_count": 27,
   "id": "f7b7fb7f",
   "metadata": {},
   "outputs": [
    {
     "data": {
      "text/plain": [
       "array([[0.38, 0.53, 2.  , ..., 3.  , 0.  , 0.  ],\n",
       "       [0.8 , 0.86, 5.  , ..., 6.  , 0.  , 0.  ],\n",
       "       [0.11, 0.88, 7.  , ..., 4.  , 0.  , 0.  ],\n",
       "       ...,\n",
       "       [0.37, 0.53, 2.  , ..., 3.  , 0.  , 0.  ],\n",
       "       [0.11, 0.96, 6.  , ..., 4.  , 0.  , 0.  ],\n",
       "       [0.37, 0.52, 2.  , ..., 3.  , 0.  , 0.  ]])"
      ]
     },
     "execution_count": 27,
     "metadata": {},
     "output_type": "execute_result"
    }
   ],
   "source": [
    "X = df_drop.iloc[:,1:8].values\n",
    "y = df_drop.iloc[:,0].values\n",
    "X"
   ]
  },
  {
   "cell_type": "code",
   "execution_count": 28,
   "id": "0d17299c",
   "metadata": {},
   "outputs": [
    {
     "data": {
      "text/plain": [
       "array([1, 1, 1, ..., 1, 1, 1], dtype=int64)"
      ]
     },
     "execution_count": 28,
     "metadata": {},
     "output_type": "execute_result"
    }
   ],
   "source": [
    "y"
   ]
  },
  {
   "cell_type": "code",
   "execution_count": 30,
   "id": "67eb8cb7",
   "metadata": {},
   "outputs": [
    {
     "data": {
      "text/plain": [
       "(14999, 7)"
      ]
     },
     "execution_count": 30,
     "metadata": {},
     "output_type": "execute_result"
    }
   ],
   "source": [
    "np.shape(X)"
   ]
  },
  {
   "cell_type": "code",
   "execution_count": 31,
   "id": "94a207a6",
   "metadata": {},
   "outputs": [
    {
     "data": {
      "text/plain": [
       "(14999,)"
      ]
     },
     "execution_count": 31,
     "metadata": {},
     "output_type": "execute_result"
    }
   ],
   "source": [
    "np.shape(y)"
   ]
  },
  {
   "cell_type": "markdown",
   "id": "ffc5850f",
   "metadata": {},
   "source": [
    "##  Data Standardisation"
   ]
  },
  {
   "cell_type": "markdown",
   "id": "43b65cce",
   "metadata": {},
   "source": [
    "\n",
    "Standardization refers to shifting the distribution of each attribute to have a mean of zero and a standard deviation of one (unit variance). It is useful to standardize attributes for a model. Standardization of datasets is a common requirement for many machine learning estimators implemented in scikit-learn; they might behave badly if the individual features do not more or less look like standard normally distributed data"
   ]
  },
  {
   "cell_type": "code",
   "execution_count": 32,
   "id": "6421d679",
   "metadata": {},
   "outputs": [],
   "source": [
    "from sklearn.preprocessing import StandardScaler\n",
    "X_std = StandardScaler().fit_transform(X)"
   ]
  },
  {
   "cell_type": "markdown",
   "id": "8a36b84f",
   "metadata": {},
   "source": [
    "## omputing Eigenvectors and Eigenvalues:\n",
    "Before computing Eigen vectors and values we need to calculate covariance matrix."
   ]
  },
  {
   "cell_type": "code",
   "execution_count": 33,
   "id": "411d2ade",
   "metadata": {},
   "outputs": [
    {
     "name": "stdout",
     "output_type": "stream",
     "text": [
      "Covariance matrix \n",
      "[[ 1.00006668  0.10502822 -0.14297912 -0.02004945 -0.1008728   0.05870115\n",
      "   0.02560689]\n",
      " [ 0.10502822  1.00006668  0.34935588  0.33976445  0.1315995  -0.00710476\n",
      "  -0.00868435]\n",
      " [-0.14297912  0.34935588  1.00006668  0.41723845  0.19679901 -0.00474086\n",
      "  -0.00606436]\n",
      " [-0.02004945  0.33976445  0.41723845  1.00006668  0.12776343 -0.01014356\n",
      "  -0.00354465]\n",
      " [-0.1008728   0.1315995   0.19679901  0.12776343  1.00006668  0.00212056\n",
      "   0.06743742]\n",
      " [ 0.05870115 -0.00710476 -0.00474086 -0.01014356  0.00212056  1.00006668\n",
      "   0.03924805]\n",
      " [ 0.02560689 -0.00868435 -0.00606436 -0.00354465  0.06743742  0.03924805\n",
      "   1.00006668]]\n"
     ]
    }
   ],
   "source": [
    "#Covariance matrix\n",
    "mean_vec = np.mean(X_std, axis=0)\n",
    "cov_mat = (X_std - mean_vec).T.dot((X_std - mean_vec)) / (X_std.shape[0]-1)\n",
    "print('Covariance matrix \\n%s' %cov_mat)"
   ]
  },
  {
   "cell_type": "code",
   "execution_count": 34,
   "id": "0f2f5078",
   "metadata": {},
   "outputs": [
    {
     "name": "stdout",
     "output_type": "stream",
     "text": [
      "NumPy covariance matrix: \n",
      "[[ 1.00006668  0.10502822 -0.14297912 -0.02004945 -0.1008728   0.05870115\n",
      "   0.02560689]\n",
      " [ 0.10502822  1.00006668  0.34935588  0.33976445  0.1315995  -0.00710476\n",
      "  -0.00868435]\n",
      " [-0.14297912  0.34935588  1.00006668  0.41723845  0.19679901 -0.00474086\n",
      "  -0.00606436]\n",
      " [-0.02004945  0.33976445  0.41723845  1.00006668  0.12776343 -0.01014356\n",
      "  -0.00354465]\n",
      " [-0.1008728   0.1315995   0.19679901  0.12776343  1.00006668  0.00212056\n",
      "   0.06743742]\n",
      " [ 0.05870115 -0.00710476 -0.00474086 -0.01014356  0.00212056  1.00006668\n",
      "   0.03924805]\n",
      " [ 0.02560689 -0.00868435 -0.00606436 -0.00354465  0.06743742  0.03924805\n",
      "   1.00006668]]\n"
     ]
    }
   ],
   "source": [
    "print('NumPy covariance matrix: \\n%s' %np.cov(X_std.T))"
   ]
  },
  {
   "cell_type": "code",
   "execution_count": 36,
   "id": "e6f8f1af",
   "metadata": {},
   "outputs": [
    {
     "data": {
      "text/plain": [
       "Text(0.5, 1.0, 'Correlation between different features')"
      ]
     },
     "execution_count": 36,
     "metadata": {},
     "output_type": "execute_result"
    },
    {
     "data": {
      "image/png": "[encoded data removed]",
      "text/plain": [
       "<Figure size 800x800 with 2 Axes>"
      ]
     },
     "metadata": {},
     "output_type": "display_data"
    }
   ],
   "source": [
    "#Equivalently we could have used Numpy np.cov to calculate covariance matrix\n",
    "plt.figure(figsize=(8,8))\n",
    "sns.heatmap(cov_mat, vmax=1, square=True,annot=True,cmap='cubehelix')\n",
    "\n",
    "plt.title('Correlation between different features')"
   ]
  },
  {
   "cell_type": "code",
   "execution_count": 37,
   "id": "db037d4b",
   "metadata": {},
   "outputs": [
    {
     "name": "stdout",
     "output_type": "stream",
     "text": [
      "Eigenvectors \n",
      "[[ 0.08797699  0.29189921  0.27784886  0.33637135  0.79752505  0.26786864\n",
      "  -0.09438973]\n",
      " [-0.50695734 -0.30996609 -0.70780994  0.07393548  0.33180877  0.1101505\n",
      "  -0.13499526]\n",
      " [-0.5788351   0.77736008 -0.00657105 -0.19677589 -0.10338032 -0.10336241\n",
      "  -0.02293518]\n",
      " [-0.54901653 -0.45787675  0.63497294 -0.25170987  0.10388959 -0.01034922\n",
      "  -0.10714981]\n",
      " [-0.31354922 -0.05287224  0.12200054  0.78782241 -0.28404472  0.04036861\n",
      "   0.42547869]\n",
      " [ 0.01930249 -0.04433104 -0.03622859 -0.05762997  0.37489883 -0.8048393\n",
      "   0.45245222]\n",
      " [-0.00996933 -0.00391698 -0.04873036 -0.39411153  0.10557298  0.50589173\n",
      "   0.75836313]]\n",
      "\n",
      "Eigenvalues \n",
      "[1.83017431 0.54823098 0.63363587 0.84548166 1.12659606 0.95598647\n",
      " 1.06036136]\n"
     ]
    }
   ],
   "source": [
    "#Eigen decomposition of the covariance matrix\n",
    "eig_vals, eig_vecs = np.linalg.eig(cov_mat)\n",
    "\n",
    "print('Eigenvectors \\n%s' %eig_vecs)\n",
    "print('\\nEigenvalues \\n%s' %eig_vals)"
   ]
  },
  {
   "cell_type": "markdown",
   "id": "f6c279ff",
   "metadata": {},
   "source": [
    "## Selecting Principal Components\n",
    "\n",
    "In order to decide which eigenvector(s) can dropped without losing too much information for the construction of lower-dimensional subspace, we need to inspect the corresponding eigenvalues: The eigenvectors with the lowest eigenvalues bear the least information about the distribution of the data; those are the ones can be dropped."
   ]
  },
  {
   "cell_type": "code",
   "execution_count": 38,
   "id": "08cafbfc",
   "metadata": {},
   "outputs": [
    {
     "name": "stdout",
     "output_type": "stream",
     "text": [
      "Eigenvalues in descending order:\n",
      "1.8301743138754758\n",
      "1.126596063991562\n",
      "1.0603613622840897\n",
      "0.9559864740066444\n",
      "0.8454816637143491\n",
      "0.6336358744830196\n",
      "0.5482309765420317\n"
     ]
    }
   ],
   "source": [
    "# Make a list of (eigenvalue, eigenvector) tuples\n",
    "eig_pairs = [(np.abs(eig_vals[i]), eig_vecs[:,i]) for i in range(len(eig_vals))]\n",
    "\n",
    "# Sort the (eigenvalue, eigenvector) tuples from high to low\n",
    "eig_pairs.sort(key=lambda x: x[0], reverse=True)\n",
    "\n",
    "# Visually confirm that the list is correctly sorted by decreasing eigenvalues\n",
    "print('Eigenvalues in descending order:')\n",
    "for i in eig_pairs:\n",
    "    print(i[0])"
   ]
  },
  {
   "cell_type": "markdown",
   "id": "ca3120c4",
   "metadata": {},
   "source": [
    "Explained Variance After sorting the eigenpairs, the next question is \"how many principal components are we going to choose for our new feature subspace?\" A useful measure is the so-called \"explained variance,\" which can be calculated from the eigenvalues. The explained variance tells us how much information (variance) can be attributed to each of the principal components."
   ]
  },
  {
   "cell_type": "code",
   "execution_count": 39,
   "id": "c0390608",
   "metadata": {},
   "outputs": [],
   "source": [
    "tot = sum(eig_vals)\n",
    "var_exp = [(i / tot)*100 for i in sorted(eig_vals, reverse=True)]"
   ]
  },
  {
   "cell_type": "code",
   "execution_count": 40,
   "id": "8fa3a682",
   "metadata": {},
   "outputs": [
    {
     "data": {
      "image/png": "[encoded data removed]",
      "text/plain": [
       "<Figure size 600x400 with 1 Axes>"
      ]
     },
     "metadata": {},
     "output_type": "display_data"
    }
   ],
   "source": [
    "with plt.style.context('dark_background'):\n",
    "    plt.figure(figsize=(6, 4))\n",
    "\n",
    "    plt.bar(range(7), var_exp, alpha=0.5, align='center',\n",
    "            label='individual explained variance')\n",
    "    plt.ylabel('Explained variance ratio')\n",
    "    plt.xlabel('Principal components')\n",
    "    plt.legend(loc='best')\n",
    "    plt.tight_layout()"
   ]
  },
  {
   "cell_type": "markdown",
   "id": "3589e90a",
   "metadata": {},
   "source": [
    "The plot above clearly shows that maximum variance (somewhere around 26%) can be explained by the first principal component alone. The second,third,fourth and fifth principal component share almost equal amount of information.Comparatively 6th and 7th components share less amount of information as compared to the rest of the Principal components.But those information cannot be ignored since they both contribute almost 17% of the data.But we can drop the last component as it has less than 10% of the variance"
   ]
  },
  {
   "cell_type": "markdown",
   "id": "d872d6c9",
   "metadata": {},
   "source": [
    "Projection Matrix\n",
    "\n",
    "The construction of the projection matrix that will be used to transform the Human resouces analytics data onto the new feature subspace. Suppose only 1st and 2nd principal component shares the maximum amount of information say around 90%.Hence we can drop other components. Here, we are reducing the 7-dimensional feature space to a 2-dimensional feature subspace, by choosing the “top 2” eigenvectors with the highest eigenvalues to construct our d×k-dimensional eigenvector matrix W"
   ]
  },
  {
   "cell_type": "code",
   "execution_count": 41,
   "id": "0077be81",
   "metadata": {},
   "outputs": [
    {
     "name": "stdout",
     "output_type": "stream",
     "text": [
      "Matrix W:\n",
      " [[ 0.08797699  0.79752505]\n",
      " [-0.50695734  0.33180877]\n",
      " [-0.5788351  -0.10338032]\n",
      " [-0.54901653  0.10388959]\n",
      " [-0.31354922 -0.28404472]\n",
      " [ 0.01930249  0.37489883]\n",
      " [-0.00996933  0.10557298]]\n"
     ]
    }
   ],
   "source": [
    "matrix_w = np.hstack((eig_pairs[0][1].reshape(7,1), \n",
    "                      eig_pairs[1][1].reshape(7,1)\n",
    "                    ))\n",
    "print('Matrix W:\\n', matrix_w)"
   ]
  },
  {
   "cell_type": "code",
   "execution_count": 42,
   "id": "e82c16c3",
   "metadata": {},
   "outputs": [
    {
     "data": {
      "text/plain": [
       "array([[ 1.90035018, -1.12083103],\n",
       "       [-2.1358322 ,  0.2493369 ],\n",
       "       [-3.05891625, -1.68312693],\n",
       "       ...,\n",
       "       [ 2.0507165 , -1.182032  ],\n",
       "       [-2.91418496, -1.42752606],\n",
       "       [ 1.91543672, -1.17021407]])"
      ]
     },
     "execution_count": 42,
     "metadata": {},
     "output_type": "execute_result"
    }
   ],
   "source": [
    "Y = X_std.dot(matrix_w)\n",
    "Y"
   ]
  },
  {
   "cell_type": "markdown",
   "id": "ff53f6d2",
   "metadata": {},
   "source": [
    "## PCA in scikit-learn"
   ]
  },
  {
   "cell_type": "code",
   "execution_count": 43,
   "id": "b3e4fd23",
   "metadata": {},
   "outputs": [
    {
     "data": {
      "text/plain": [
       "Text(0, 0.5, 'Cumulative explained variance')"
      ]
     },
     "execution_count": 43,
     "metadata": {},
     "output_type": "execute_result"
    },
    {
     "data": {
      "image/png": "[encoded data removed]",
      "text/plain": [
       "<Figure size 640x480 with 1 Axes>"
      ]
     },
     "metadata": {},
     "output_type": "display_data"
    }
   ],
   "source": [
    "from sklearn.decomposition import PCA\n",
    "pca = PCA().fit(X_std)\n",
    "plt.plot(np.cumsum(pca.explained_variance_ratio_))\n",
    "plt.xlim(0,7,1)\n",
    "plt.xlabel('Number of components')\n",
    "plt.ylabel('Cumulative explained variance')"
   ]
  },
  {
   "cell_type": "markdown",
   "id": "a2563afb",
   "metadata": {},
   "source": [
    "he above plot shows almost 90% variance by the first 6 components. Therfore we can drop 7th component"
   ]
  },
  {
   "cell_type": "code",
   "execution_count": 44,
   "id": "f76a714f",
   "metadata": {},
   "outputs": [],
   "source": [
    "from sklearn.decomposition import PCA \n",
    "sklearn_pca = PCA(n_components=6)\n",
    "Y_sklearn = sklearn_pca.fit_transform(X_std)"
   ]
  },
  {
   "cell_type": "code",
   "execution_count": 45,
   "id": "fbe13612",
   "metadata": {},
   "outputs": [
    {
     "name": "stdout",
     "output_type": "stream",
     "text": [
      "[[-1.90035018 -1.12083103 -0.0797787   0.03228437 -0.07256447  0.06063013]\n",
      " [ 2.1358322   0.2493369   0.0936161   0.50676925  1.2487747  -0.61378158]\n",
      " [ 3.05891625 -1.68312693 -0.301682   -0.4488635  -1.12495888  0.29066929]\n",
      " ...\n",
      " [-2.0507165  -1.182032   -0.04594506  0.02441143 -0.01553247  0.24980658]\n",
      " [ 2.91418496 -1.42752606 -0.36333357 -0.31517759 -0.97107375  0.51444624]\n",
      " [-1.91543672 -1.17021407 -0.07024077  0.01486762 -0.09545357  0.01773844]]\n"
     ]
    }
   ],
   "source": [
    "print(Y_sklearn)"
   ]
  },
  {
   "cell_type": "code",
   "execution_count": 46,
   "id": "be5007b6",
   "metadata": {},
   "outputs": [
    {
     "data": {
      "text/plain": [
       "(14999, 6)"
      ]
     },
     "execution_count": 46,
     "metadata": {},
     "output_type": "execute_result"
    }
   ],
   "source": [
    "Y_sklearn.shape"
   ]
  },
  {
   "cell_type": "markdown",
   "id": "db67f1fa",
   "metadata": {},
   "source": [
    "Thus Principal Component Analysis is used to remove the redundant features from the datasets without losing much information.These features are low dimensional in nature.The first component has the highest variance followed by second, third and so on.PCA works best on data set having 3 or higher dimensions. Because, with higher dimensions, it becomes increasingly difficult to make interpretations from the resultant cloud of data."
   ]
  },
  {
   "cell_type": "code",
   "execution_count": null,
   "id": "e496f919",
   "metadata": {},
   "outputs": [],
   "source": []
  }
 ],
 "metadata": {
  "kernelspec": {
   "display_name": "Python 3 (ipykernel)",
   "language": "python",
   "name": "python3"
  },
  "language_info": {
   "codemirror_mode": {
    "name": "ipython",
    "version": 3
   },
   "file_extension": ".py",
   "mimetype": "text/x-python",
   "name": "python",
   "nbconvert_exporter": "python",
   "pygments_lexer": "ipython3",
   "version": "3.9.13"
  }
 },
 "nbformat": 4,
 "nbformat_minor": 5
}
